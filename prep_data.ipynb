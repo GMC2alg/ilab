{
 "cells": [
  {
   "cell_type": "code",
   "execution_count": 2,
   "id": "5a440397-7737-4f1b-8ebc-78c178e7833a",
   "metadata": {},
   "outputs": [],
   "source": [
    "# Import Library\n",
    "import os\n",
    "import json\n",
    "import pandas as pd\n",
    "# Helper\n",
    "from tqdm import tqdm\n",
    "from openai import OpenAI\n",
    "from dotenv import load_dotenv\n"
   ]
  },
  {
   "cell_type": "code",
   "execution_count": 3,
   "id": "af8f17ee",
   "metadata": {},
   "outputs": [],
   "source": [
    "# Dotenv\n",
    "load_dotenv('.env')\n",
    "# OpenAI\n",
    "openapi = OpenAI()"
   ]
  },
  {
   "cell_type": "code",
   "execution_count": 125,
   "id": "934ef26b",
   "metadata": {},
   "outputs": [
    {
     "name": "stdout",
     "output_type": "stream",
     "text": [
      "**Deutsch:**\n",
      "\n",
      "```json\n",
      "{\n",
      "  \"prompt\": \"Entwickle einen IBM Turbo Integrator Prozess, der die Verschlüsselung bzw. Entschlüsselung einer Datei unter Verwendung des tm1crypt-Dienstprogramms ermöglicht. Der Anwendungsfall besteht darin, eine einzelne Datei zu verschlüsseln oder zu entschlüsseln. Beachte, dass die generierten Befehle nur funktionieren, wenn die TM1-Instanz verschlüsselt ist.\"\n",
      "}\n",
      "```\n",
      "\n",
      "**Englisch:**\n",
      "\n",
      "```json\n",
      "{\n",
      "  \"prompt\": \"Develop an IBM Turbo Integrator process that enables the encryption or decryption of a file using the tm1crypt utility. The use case is to encrypt or decrypt a single file. Note that the generated commands will only work when the TM1 instance is encrypted.\"\n",
      "}\n",
      "```\n"
     ]
    }
   ],
   "source": [
    "description = \"\"\"\n",
    "# This process this process encrypts / unencrypts a file using the tm1crypt utility\n",
    "# Use case: To encrypts / unencrypts a single file\n",
    "# Note: Generated commands will only work when the TM1 isntance is entrypted\n",
    "\"\"\"\n",
    "\n",
    "messages=[\n",
    "    {\n",
    "      \"role\": \"user\",\n",
    "      \"content\": f\"Der nachfolgende Text beschreibt einen IBM Turbo Integrator Prozess. Generiere bitte die entsprechende Anweisung: {description} \"\n",
    "    },\n",
    "    {\n",
    "      \"role\": \"user\",\n",
    "      \"content\": \"Bereite den Generativer KI-Prompt im JSON-Format vor und gib sie sowohl auf Deutsch als auch auf Englisch wieder. Stelle sicher, dass die Anweisungen als zusammenhängender Text zurückgegeben werden. Entwickle einen generativen KI-Prompt, der einen IBM Turbo Integrator Prozess beschreibt.\"\n",
    "    },\n",
    "    {\n",
    "      \"role\":\"user\",\n",
    "      \"content\":\"Ein Beispiel: \\\\n\\\\n**Deutsch:**\\\\n\\\\n```json\\\\n{\\\\n  \\'prompt\\': \\'Entwickle einen IBM Turbo Integrator Prozess ...\\'\\\\n}\\\\n```\\\\n\\\\n**Englisch:**\\\\n\\\\n```json\\\\n{\\\\n  \\'prompt\\': \\'Develop an IBM Turbo Integrator process ...\\'\\\\n}\\\\n\"\n",
    "    }\n",
    "  ]\n",
    "\n",
    "instruction = openapi.chat.completions.create(messages=messages,model=\"gpt-4o\")\n",
    "print(instruction.choices[0].message.content)"
   ]
  },
  {
   "cell_type": "markdown",
   "id": "4455efe3-432e-49d0-bc36-b6b86e55c083",
   "metadata": {},
   "source": [
    "#### Connections"
   ]
  },
  {
   "cell_type": "code",
   "execution_count": 132,
   "id": "9ca04c0d",
   "metadata": {},
   "outputs": [
    {
     "data": {
      "text/plain": [
       "'\"\\\\n#Section Prolog\\\\n\\\\n#****Begin: Generated Statements***\\\\n#****End: Generated Statements****\\\\n\\\\n#Region @DOC\\\\n# Description:\\\\n# This process will write a Message into the TM1 server Message Log. \\\\n#EndRegion @DOC\\\\n\\\\n### Global Variables\\\\nStringGlobalVariable(\\'sProcessReturnCode\\');\\\\nNumericGlobalVariable(\\'nProcessReturnCode\\');\\\\nnProcessReturnCode= 0;\\\\n\\\\n### Constants ###\\\\ncThisProcName       = GetProcessName();\\\\ncUserName           = TM1User();\\\\ncMsgErrorLevel      = \\'ERROR\\';\\\\ncMsgErrorContent    = \\'User:%cUserName% Process:%cThisProcName% ErrorMsg:%sMessage%\\';\\\\ncLogInfo            = \\'Process:%cThisProcName% run with parameters pLevel:%pLevel%, pMessage:%pMessage%.\\' ; \\\\ncLF                 = Char ( 10 );\\\\n\\\\n## LogOutput parameters\\\\nIF( pLogoutput = 1 );\\\\n    LogOutput(\\'INFO\\', Expand( cLogInfo ) );   \\\\nENDIF;\\\\n\\\\n### Validate Parameters ###\\\\nnErrors             = 0;\\\\nsErrors             = \\'\\';\\\\n\\\\n# ValidateType\\\\nsType               = Upper ( pLevel );\\\\nIf( sType @<> \\'ERROR\\' & sType @<> \\'WARN\\' & sType @<> \\'DEBUG\\' & sType @<> \\'INFO\\' );\\\\n    nErrors         = nErrors + 1;\\\\n    sMessage        = \\'Invalid Type: \\' | pLevel | cLF;\\\\n    LogOutput( cMsgErrorLevel, Expand( cMsgErrorContent ) );\\\\nEndIf;\\\\nIf( Long ( pMessage ) = 0 );\\\\n    nErrors         = nErrors + 1;\\\\n    sMessage        = sErrors | \\'pMessage can not be empty.\\'  | cLF;\\\\n    LogOutput( cMsgErrorLevel, Expand( cMsgErrorContent ) );\\\\nEndIf;\\\\n\\\\n### Check for errors before continuing\\\\nIf( nErrors <> 0 );\\\\n  If( pStrictErrorHandling = 1 ); \\\\n      ProcessQuit; \\\\n  Else;\\\\n      ProcessBreak;\\\\n  EndIf;\\\\nEndIf;\\\\n\\\\n### Action ###\\\\nLogOutput ( sType , pMessage );\\\\n\\\\n#Section Metadaten\\\\n\\\\n#****Begin: Generated Statements***\\\\n#****End: Generated Statements****\\\\n#Section Daten\\\\n\\\\n#****Begin: Generated Statements***\\\\n#****End: Generated Statements****\\\\n\\\\n#Section Epilog\\\\n\\\\n#****Begin: Generated Statements***\\\\n#****End: Generated Statements****\\\\n\\\\n### Return code & final error message handling\\\\nIf( nErrors > 0 );\\\\n    sMessage = \\'the process incurred at least 1 error. Please see above lines in this file for more details.\\';\\\\n    nProcessReturnCode = 0;\\\\n    LogOutput( cMsgErrorLevel, Expand( cMsgErrorContent ) );\\\\n    sProcessReturnCode = Expand( \\'%sProcessReturnCode% Process:%cThisProcName% completed with errors. Check tm1server.log for details.\\' );\\\\n    If( pStrictErrorHandling = 1 ); \\\\n        ProcessQuit; \\\\n    EndIf;\\\\nElse;\\\\n    sProcessAction = Expand( \\'Process:%cThisProcName% successfully wrote message type %pLevel% with message %pMessage%.\\' );\\\\n    sProcessReturnCode = Expand( \\'%sProcessReturnCode% %sProcessAction%\\' );\\\\n    nProcessReturnCode = 1;\\\\n    If( pLogoutput = 1 );\\\\n        LogOutput(\\'INFO\\', Expand( sProcessAction ) );   \\\\n    EndIf;\\\\nEndIf;\\\\n\\\\n### End Epilog ###\\\\n\"'"
      ]
     },
     "execution_count": 132,
     "metadata": {},
     "output_type": "execute_result"
    }
   ],
   "source": [
    "ti = \"\"\"\n",
    "#Section Prolog\n",
    "\n",
    "#****Begin: Generated Statements***\n",
    "#****End: Generated Statements****\n",
    "\n",
    "#Region @DOC\n",
    "# Description:\n",
    "# This process will write a Message into the TM1 server Message Log. \n",
    "#EndRegion @DOC\n",
    "\n",
    "### Global Variables\n",
    "StringGlobalVariable('sProcessReturnCode');\n",
    "NumericGlobalVariable('nProcessReturnCode');\n",
    "nProcessReturnCode= 0;\n",
    "\n",
    "### Constants ###\n",
    "cThisProcName       = GetProcessName();\n",
    "cUserName           = TM1User();\n",
    "cMsgErrorLevel      = 'ERROR';\n",
    "cMsgErrorContent    = 'User:%cUserName% Process:%cThisProcName% ErrorMsg:%sMessage%';\n",
    "cLogInfo            = 'Process:%cThisProcName% run with parameters pLevel:%pLevel%, pMessage:%pMessage%.' ; \n",
    "cLF                 = Char ( 10 );\n",
    "\n",
    "## LogOutput parameters\n",
    "IF( pLogoutput = 1 );\n",
    "    LogOutput('INFO', Expand( cLogInfo ) );   \n",
    "ENDIF;\n",
    "\n",
    "### Validate Parameters ###\n",
    "nErrors             = 0;\n",
    "sErrors             = '';\n",
    "\n",
    "# ValidateType\n",
    "sType               = Upper ( pLevel );\n",
    "If( sType @<> 'ERROR' & sType @<> 'WARN' & sType @<> 'DEBUG' & sType @<> 'INFO' );\n",
    "    nErrors         = nErrors + 1;\n",
    "    sMessage        = 'Invalid Type: ' | pLevel | cLF;\n",
    "    LogOutput( cMsgErrorLevel, Expand( cMsgErrorContent ) );\n",
    "EndIf;\n",
    "If( Long ( pMessage ) = 0 );\n",
    "    nErrors         = nErrors + 1;\n",
    "    sMessage        = sErrors | 'pMessage can not be empty.'  | cLF;\n",
    "    LogOutput( cMsgErrorLevel, Expand( cMsgErrorContent ) );\n",
    "EndIf;\n",
    "\n",
    "### Check for errors before continuing\n",
    "If( nErrors <> 0 );\n",
    "  If( pStrictErrorHandling = 1 ); \n",
    "      ProcessQuit; \n",
    "  Else;\n",
    "      ProcessBreak;\n",
    "  EndIf;\n",
    "EndIf;\n",
    "\n",
    "### Action ###\n",
    "LogOutput ( sType , pMessage );\n",
    "\n",
    "#Section Metadaten\n",
    "\n",
    "#****Begin: Generated Statements***\n",
    "#****End: Generated Statements****\n",
    "#Section Daten\n",
    "\n",
    "#****Begin: Generated Statements***\n",
    "#****End: Generated Statements****\n",
    "\n",
    "#Section Epilog\n",
    "\n",
    "#****Begin: Generated Statements***\n",
    "#****End: Generated Statements****\n",
    "\n",
    "### Return code & final error message handling\n",
    "If( nErrors > 0 );\n",
    "    sMessage = 'the process incurred at least 1 error. Please see above lines in this file for more details.';\n",
    "    nProcessReturnCode = 0;\n",
    "    LogOutput( cMsgErrorLevel, Expand( cMsgErrorContent ) );\n",
    "    sProcessReturnCode = Expand( '%sProcessReturnCode% Process:%cThisProcName% completed with errors. Check tm1server.log for details.' );\n",
    "    If( pStrictErrorHandling = 1 ); \n",
    "        ProcessQuit; \n",
    "    EndIf;\n",
    "Else;\n",
    "    sProcessAction = Expand( 'Process:%cThisProcName% successfully wrote message type %pLevel% with message %pMessage%.' );\n",
    "    sProcessReturnCode = Expand( '%sProcessReturnCode% %sProcessAction%' );\n",
    "    nProcessReturnCode = 1;\n",
    "    If( pLogoutput = 1 );\n",
    "        LogOutput('INFO', Expand( sProcessAction ) );   \n",
    "    EndIf;\n",
    "EndIf;\n",
    "\n",
    "### End Epilog ###\n",
    "\"\"\"\n",
    "\n",
    "text_to_remove = \"\"\"################################################################################################# \n",
    "##~~Join the bedrock TM1 community on GitHub https://github.com/cubewise-code/bedrock Ver 4.0~~##\n",
    "#################################################################################################\"\"\"\n",
    "\n",
    "# First, remove the specified text block\n",
    "intermediate_text = ti.replace(text_to_remove, \"\")\n",
    "\n",
    "# Then, replace double quotes with single quotes\n",
    "new_text = intermediate_text.replace('\"', \"'\")\n",
    "\n",
    "json.dumps(new_text)"
   ]
  },
  {
   "cell_type": "code",
   "execution_count": 4,
   "id": "9b8a5721",
   "metadata": {},
   "outputs": [],
   "source": [
    "from datasets import load_dataset\n",
    "dataset = load_dataset(\"pacohub/bedrock\")"
   ]
  },
  {
   "cell_type": "code",
   "execution_count": 5,
   "id": "419845a2",
   "metadata": {},
   "outputs": [
    {
     "data": {
      "text/plain": [
       "DatasetDict({\n",
       "    train: Dataset({\n",
       "        features: ['instruction', 'response'],\n",
       "        num_rows: 180\n",
       "    })\n",
       "})"
      ]
     },
     "execution_count": 5,
     "metadata": {},
     "output_type": "execute_result"
    }
   ],
   "source": [
    "dataset"
   ]
  },
  {
   "cell_type": "code",
   "execution_count": 6,
   "id": "92d0104e",
   "metadata": {},
   "outputs": [],
   "source": [
    "import yaml\n",
    "from datetime import datetime"
   ]
  },
  {
   "cell_type": "code",
   "execution_count": 10,
   "id": "63be71ae",
   "metadata": {},
   "outputs": [],
   "source": [
    "def convert_dataset_to_yaml(dataset):\n",
    "    \"\"\"\n",
    "    Convert a HuggingFace dataset with 'instruction' and 'response' fields\n",
    "    into a QnA YAML format.\n",
    "    \"\"\"\n",
    "    # Create the base YAML structure\n",
    "    yaml_data = {\n",
    "        'version': 2,\n",
    "        'created_by': 'GMC2alg',\n",
    "        'task_description': 'Teach the model how to generate a Turbo Integrator process',\n",
    "        'created_at': datetime.now().strftime('%Y-%m-%d'),\n",
    "        'seed_examples': []\n",
    "    }\n",
    "    \n",
    "    # Convert each dataset row into a QnA format\n",
    "    for item in dataset['train']:\n",
    "        qna_entry = {\n",
    "            'question': item['instruction'],\n",
    "            'answer': item['response']\n",
    "        }\n",
    "        yaml_data['seed_examples'].append(qna_entry)\n",
    "    \n",
    "    return yaml_data"
   ]
  },
  {
   "cell_type": "code",
   "execution_count": 11,
   "id": "e6250643",
   "metadata": {},
   "outputs": [],
   "source": [
    "def save_yaml(data, output_file):\n",
    "    \"\"\"\n",
    "    Save the data structure as a YAML file with proper formatting.\n",
    "    \"\"\"\n",
    "    with open(output_file, 'w', encoding='utf-8') as f:\n",
    "        yaml.safe_dump(data, f, allow_unicode=True, sort_keys=False)"
   ]
  },
  {
   "cell_type": "code",
   "execution_count": 12,
   "id": "2adb8b71",
   "metadata": {},
   "outputs": [],
   "source": [
    "# Load and convert the dataset\n",
    "dataset = load_dataset(\"pacohub/bedrock\")\n",
    "yaml_data = convert_dataset_to_yaml(dataset)\n",
    "\n",
    "# Save to file\n",
    "save_yaml(yaml_data, 'qna.yaml')"
   ]
  }
 ],
 "metadata": {
  "kernelspec": {
   "display_name": "Python 3",
   "language": "python",
   "name": "python3"
  },
  "language_info": {
   "codemirror_mode": {
    "name": "ipython",
    "version": 3
   },
   "file_extension": ".py",
   "mimetype": "text/x-python",
   "name": "python",
   "nbconvert_exporter": "python",
   "pygments_lexer": "ipython3",
   "version": "3.10.10"
  }
 },
 "nbformat": 4,
 "nbformat_minor": 5
}
